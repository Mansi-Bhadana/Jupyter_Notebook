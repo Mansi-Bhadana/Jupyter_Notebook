{
 "cells": [
  {
   "cell_type": "markdown",
   "id": "ff464e32-4ec0-4468-8068-11317167dbd9",
   "metadata": {},
   "source": [
    "# Data Science Tools and Ecosystem\n"
   ]
  },
  {
   "cell_type": "markdown",
   "id": "5cab461e-77a5-4090-a19d-0bae1b092a7a",
   "metadata": {},
   "source": [
    "In this notebook, Data Science Tools and Ecosystem are summarized."
   ]
  },
  {
   "cell_type": "markdown",
   "id": "615dbcf0-37ff-4e21-95ad-485d1a388be1",
   "metadata": {},
   "source": [
    "**Objectives:**\n",
    "- Popular Languages for Data Science\n",
    "- Popular Tools for Data Science\n",
    "- Popular Libraries for Data Science"
   ]
  },
  {
   "cell_type": "markdown",
   "id": "d423805b-b890-480a-a677-58fcff4e7bff",
   "metadata": {
    "tags": []
   },
   "source": [
    "Some of the popular languages that Data Scientists use are:"
   ]
  },
  {
   "cell_type": "markdown",
   "id": "5349f8b6-c6d7-4548-9c91-a771cae5fdc8",
   "metadata": {},
   "source": [
    "1. Python\n",
    "2. R\n",
    "3. SQL\n",
    "4. Java"
   ]
  },
  {
   "cell_type": "markdown",
   "id": "6618620b-1cc8-4c06-8130-b7fc8a02de02",
   "metadata": {},
   "source": [
    "Some of the commonly used libraries used by Data Scientists include:"
   ]
  },
  {
   "cell_type": "markdown",
   "id": "ef30ad56-9b39-4d69-8865-87fba1aea802",
   "metadata": {},
   "source": [
    "1. Pandas\n",
    "2. Numpy\n",
    "3. Matplotlib\n",
    "4. Keras\n",
    "5. Scala"
   ]
  },
  {
   "cell_type": "markdown",
   "id": "156f9433-4d51-49d1-b3be-c7d469ee9478",
   "metadata": {},
   "source": [
    "|Data Science Tools|\n",
    "|------------------|\n",
    "|RStudio|\n",
    "|GitHub|\n",
    "|Anaconda|"
   ]
  },
  {
   "cell_type": "markdown",
   "id": "89d93786-b512-4b2b-b912-c1317066346b",
   "metadata": {},
   "source": [
    "### Below are a few examples of evaluating arithmetic expressions in Python"
   ]
  },
  {
   "cell_type": "code",
   "execution_count": 3,
   "id": "5e9243bd-7943-456d-9f48-be7f0dd00c7c",
   "metadata": {
    "tags": []
   },
   "outputs": [
    {
     "data": {
      "text/plain": [
       "17"
      ]
     },
     "execution_count": 3,
     "metadata": {},
     "output_type": "execute_result"
    }
   ],
   "source": [
    "# This a simple arithmetic expression to mutiply then add integers\n",
    "(3*4)+5"
   ]
  },
  {
   "cell_type": "code",
   "execution_count": 4,
   "id": "79f7299d-e1e9-487b-a147-0a47b85d9748",
   "metadata": {
    "tags": []
   },
   "outputs": [
    {
     "data": {
      "text/plain": [
       "3.3333333333333335"
      ]
     },
     "execution_count": 4,
     "metadata": {},
     "output_type": "execute_result"
    }
   ],
   "source": [
    "# This will convert 200 minutes to hours by diving by 60\n",
    "200/60"
   ]
  },
  {
   "cell_type": "markdown",
   "id": "4647296f-4739-4c86-9199-1446b1206d2d",
   "metadata": {},
   "source": [
    "## Author"
   ]
  },
  {
   "cell_type": "markdown",
   "id": "97ca3d42-8f78-4ba1-8a6e-e2a92b369ae9",
   "metadata": {},
   "source": [
    "Mansi Bhadana"
   ]
  },
  {
   "cell_type": "code",
   "execution_count": null,
   "id": "e368a53d-b180-43e6-adf8-2a9e2470e850",
   "metadata": {},
   "outputs": [],
   "source": []
  }
 ],
 "metadata": {
  "kernelspec": {
   "display_name": "Python",
   "language": "python",
   "name": "conda-env-python-py"
  },
  "language_info": {
   "codemirror_mode": {
    "name": "ipython",
    "version": 3
   },
   "file_extension": ".py",
   "mimetype": "text/x-python",
   "name": "python",
   "nbconvert_exporter": "python",
   "pygments_lexer": "ipython3",
   "version": "3.7.12"
  }
 },
 "nbformat": 4,
 "nbformat_minor": 5
}
